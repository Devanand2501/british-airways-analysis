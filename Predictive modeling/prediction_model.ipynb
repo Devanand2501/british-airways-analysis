{
 "cells": [
  {
   "cell_type": "markdown",
   "metadata": {},
   "source": [
    "# Model Prediction \n",
    "\n",
    "---"
   ]
  },
  {
   "cell_type": "markdown",
   "metadata": {},
   "source": [
    "### Importing the libraries"
   ]
  },
  {
   "cell_type": "code",
   "execution_count": 39,
   "metadata": {},
   "outputs": [],
   "source": [
    "import pandas as pd \n",
    "import matplotlib.pyplot as plt \n",
    "import seaborn as sns \n",
    "from sklearn.compose import ColumnTransformer\n",
    "from sklearn.preprocessing import OneHotEncoder\n",
    "from sklearn.preprocessing import StandardScaler\n",
    "from sklearn.model_selection import train_test_split\n",
    "from sklearn.ensemble import RandomForestClassifier\n",
    "from sklearn.linear_model import LogisticRegression\n",
    "from sklearn.svm import SVC\n",
    "from sklearn.neighbors import KNeighborsClassifier\n",
    "from sklearn.tree import DecisionTreeClassifier\n",
    "from sklearn.metrics import accuracy_score\n",
    "from sklearn.metrics import  confusion_matrix, precision_score, recall_score, f1_score"
   ]
  },
  {
   "cell_type": "code",
   "execution_count": 2,
   "metadata": {},
   "outputs": [
    {
     "data": {
      "text/html": [
       "<div>\n",
       "<style scoped>\n",
       "    .dataframe tbody tr th:only-of-type {\n",
       "        vertical-align: middle;\n",
       "    }\n",
       "\n",
       "    .dataframe tbody tr th {\n",
       "        vertical-align: top;\n",
       "    }\n",
       "\n",
       "    .dataframe thead th {\n",
       "        text-align: right;\n",
       "    }\n",
       "</style>\n",
       "<table border=\"1\" class=\"dataframe\">\n",
       "  <thead>\n",
       "    <tr style=\"text-align: right;\">\n",
       "      <th></th>\n",
       "      <th>num_passengers</th>\n",
       "      <th>sales_channel</th>\n",
       "      <th>trip_type</th>\n",
       "      <th>purchase_lead</th>\n",
       "      <th>length_of_stay</th>\n",
       "      <th>flight_hour</th>\n",
       "      <th>flight_day</th>\n",
       "      <th>route</th>\n",
       "      <th>booking_origin</th>\n",
       "      <th>wants_extra_baggage</th>\n",
       "      <th>wants_preferred_seat</th>\n",
       "      <th>wants_in_flight_meals</th>\n",
       "      <th>flight_duration</th>\n",
       "      <th>booking_complete</th>\n",
       "    </tr>\n",
       "  </thead>\n",
       "  <tbody>\n",
       "    <tr>\n",
       "      <th>0</th>\n",
       "      <td>2</td>\n",
       "      <td>Internet</td>\n",
       "      <td>RoundTrip</td>\n",
       "      <td>262</td>\n",
       "      <td>19</td>\n",
       "      <td>7</td>\n",
       "      <td>6</td>\n",
       "      <td>AKLDEL</td>\n",
       "      <td>New Zealand</td>\n",
       "      <td>1</td>\n",
       "      <td>0</td>\n",
       "      <td>0</td>\n",
       "      <td>5.52</td>\n",
       "      <td>0</td>\n",
       "    </tr>\n",
       "    <tr>\n",
       "      <th>1</th>\n",
       "      <td>1</td>\n",
       "      <td>Internet</td>\n",
       "      <td>RoundTrip</td>\n",
       "      <td>112</td>\n",
       "      <td>20</td>\n",
       "      <td>3</td>\n",
       "      <td>6</td>\n",
       "      <td>AKLDEL</td>\n",
       "      <td>New Zealand</td>\n",
       "      <td>0</td>\n",
       "      <td>0</td>\n",
       "      <td>0</td>\n",
       "      <td>5.52</td>\n",
       "      <td>0</td>\n",
       "    </tr>\n",
       "    <tr>\n",
       "      <th>2</th>\n",
       "      <td>2</td>\n",
       "      <td>Internet</td>\n",
       "      <td>RoundTrip</td>\n",
       "      <td>243</td>\n",
       "      <td>22</td>\n",
       "      <td>17</td>\n",
       "      <td>3</td>\n",
       "      <td>AKLDEL</td>\n",
       "      <td>India</td>\n",
       "      <td>1</td>\n",
       "      <td>1</td>\n",
       "      <td>0</td>\n",
       "      <td>5.52</td>\n",
       "      <td>0</td>\n",
       "    </tr>\n",
       "    <tr>\n",
       "      <th>3</th>\n",
       "      <td>1</td>\n",
       "      <td>Internet</td>\n",
       "      <td>RoundTrip</td>\n",
       "      <td>96</td>\n",
       "      <td>31</td>\n",
       "      <td>4</td>\n",
       "      <td>6</td>\n",
       "      <td>AKLDEL</td>\n",
       "      <td>New Zealand</td>\n",
       "      <td>0</td>\n",
       "      <td>0</td>\n",
       "      <td>1</td>\n",
       "      <td>5.52</td>\n",
       "      <td>0</td>\n",
       "    </tr>\n",
       "    <tr>\n",
       "      <th>4</th>\n",
       "      <td>2</td>\n",
       "      <td>Internet</td>\n",
       "      <td>RoundTrip</td>\n",
       "      <td>68</td>\n",
       "      <td>22</td>\n",
       "      <td>15</td>\n",
       "      <td>3</td>\n",
       "      <td>AKLDEL</td>\n",
       "      <td>India</td>\n",
       "      <td>1</td>\n",
       "      <td>0</td>\n",
       "      <td>1</td>\n",
       "      <td>5.52</td>\n",
       "      <td>0</td>\n",
       "    </tr>\n",
       "  </tbody>\n",
       "</table>\n",
       "</div>"
      ],
      "text/plain": [
       "   num_passengers sales_channel  trip_type  purchase_lead  length_of_stay  \\\n",
       "0               2      Internet  RoundTrip            262              19   \n",
       "1               1      Internet  RoundTrip            112              20   \n",
       "2               2      Internet  RoundTrip            243              22   \n",
       "3               1      Internet  RoundTrip             96              31   \n",
       "4               2      Internet  RoundTrip             68              22   \n",
       "\n",
       "   flight_hour  flight_day   route booking_origin  wants_extra_baggage  \\\n",
       "0            7           6  AKLDEL    New Zealand                    1   \n",
       "1            3           6  AKLDEL    New Zealand                    0   \n",
       "2           17           3  AKLDEL          India                    1   \n",
       "3            4           6  AKLDEL    New Zealand                    0   \n",
       "4           15           3  AKLDEL          India                    1   \n",
       "\n",
       "   wants_preferred_seat  wants_in_flight_meals  flight_duration  \\\n",
       "0                     0                      0             5.52   \n",
       "1                     0                      0             5.52   \n",
       "2                     1                      0             5.52   \n",
       "3                     0                      1             5.52   \n",
       "4                     0                      1             5.52   \n",
       "\n",
       "   booking_complete  \n",
       "0                 0  \n",
       "1                 0  \n",
       "2                 0  \n",
       "3                 0  \n",
       "4                 0  "
      ]
     },
     "execution_count": 2,
     "metadata": {},
     "output_type": "execute_result"
    }
   ],
   "source": [
    "df = pd.read_csv(\"cleaned_customer_booking.csv\",index_col=0)\n",
    "df.head()"
   ]
  },
  {
   "cell_type": "markdown",
   "metadata": {},
   "source": [
    "### Splitting the features and targets"
   ]
  },
  {
   "cell_type": "code",
   "execution_count": 3,
   "metadata": {},
   "outputs": [],
   "source": [
    "x = df.iloc[:,:-1]\n",
    "y = df.iloc[:,-1]"
   ]
  },
  {
   "cell_type": "markdown",
   "metadata": {},
   "source": [
    "### One Hot Encoding"
   ]
  },
  {
   "cell_type": "code",
   "execution_count": 4,
   "metadata": {},
   "outputs": [],
   "source": [
    "categorical_features = ['sales_channel','trip_type']"
   ]
  },
  {
   "cell_type": "code",
   "execution_count": 5,
   "metadata": {},
   "outputs": [],
   "source": [
    "ct = ColumnTransformer(transformers=[('encoder',OneHotEncoder(),categorical_features)],remainder='passthrough')"
   ]
  },
  {
   "cell_type": "code",
   "execution_count": 6,
   "metadata": {},
   "outputs": [],
   "source": [
    "x_array = ct.fit_transform(x)"
   ]
  },
  {
   "cell_type": "code",
   "execution_count": 7,
   "metadata": {},
   "outputs": [],
   "source": [
    "x = pd.DataFrame(x_array)"
   ]
  },
  {
   "cell_type": "code",
   "execution_count": 8,
   "metadata": {},
   "outputs": [],
   "source": [
    "x.drop(columns=[10,11],inplace=True)"
   ]
  },
  {
   "cell_type": "markdown",
   "metadata": {},
   "source": [
    "### Normalization"
   ]
  },
  {
   "cell_type": "code",
   "execution_count": 9,
   "metadata": {},
   "outputs": [],
   "source": [
    "sc = StandardScaler()\n",
    "x = sc.fit_transform(x)"
   ]
  },
  {
   "cell_type": "code",
   "execution_count": 10,
   "metadata": {},
   "outputs": [],
   "source": [
    "x = pd.DataFrame(x)"
   ]
  },
  {
   "cell_type": "code",
   "execution_count": 11,
   "metadata": {},
   "outputs": [
    {
     "data": {
      "text/html": [
       "<div>\n",
       "<style scoped>\n",
       "    .dataframe tbody tr th:only-of-type {\n",
       "        vertical-align: middle;\n",
       "    }\n",
       "\n",
       "    .dataframe tbody tr th {\n",
       "        vertical-align: top;\n",
       "    }\n",
       "\n",
       "    .dataframe thead th {\n",
       "        text-align: right;\n",
       "    }\n",
       "</style>\n",
       "<table border=\"1\" class=\"dataframe\">\n",
       "  <thead>\n",
       "    <tr style=\"text-align: right;\">\n",
       "      <th></th>\n",
       "      <th>0</th>\n",
       "      <th>1</th>\n",
       "      <th>2</th>\n",
       "      <th>3</th>\n",
       "      <th>4</th>\n",
       "      <th>5</th>\n",
       "      <th>6</th>\n",
       "      <th>7</th>\n",
       "      <th>8</th>\n",
       "      <th>9</th>\n",
       "      <th>10</th>\n",
       "      <th>11</th>\n",
       "      <th>12</th>\n",
       "      <th>13</th>\n",
       "    </tr>\n",
       "  </thead>\n",
       "  <tbody>\n",
       "    <tr>\n",
       "      <th>8535</th>\n",
       "      <td>0.356209</td>\n",
       "      <td>-0.356209</td>\n",
       "      <td>-0.048159</td>\n",
       "      <td>-0.088473</td>\n",
       "      <td>0.100913</td>\n",
       "      <td>0.398412</td>\n",
       "      <td>-0.599533</td>\n",
       "      <td>-0.095049</td>\n",
       "      <td>-1.120434</td>\n",
       "      <td>0.093532</td>\n",
       "      <td>-1.418343</td>\n",
       "      <td>-0.648803</td>\n",
       "      <td>-0.861602</td>\n",
       "      <td>-1.170901</td>\n",
       "    </tr>\n",
       "    <tr>\n",
       "      <th>5431</th>\n",
       "      <td>0.356209</td>\n",
       "      <td>-0.356209</td>\n",
       "      <td>-0.048159</td>\n",
       "      <td>-0.088473</td>\n",
       "      <td>0.100913</td>\n",
       "      <td>0.398412</td>\n",
       "      <td>2.321604</td>\n",
       "      <td>0.097675</td>\n",
       "      <td>-0.935678</td>\n",
       "      <td>1.097084</td>\n",
       "      <td>-1.418343</td>\n",
       "      <td>-0.648803</td>\n",
       "      <td>-0.861602</td>\n",
       "      <td>0.873170</td>\n",
       "    </tr>\n",
       "    <tr>\n",
       "      <th>41154</th>\n",
       "      <td>0.356209</td>\n",
       "      <td>-0.356209</td>\n",
       "      <td>-0.048159</td>\n",
       "      <td>-0.088473</td>\n",
       "      <td>0.100913</td>\n",
       "      <td>-0.580172</td>\n",
       "      <td>-0.599533</td>\n",
       "      <td>-0.634676</td>\n",
       "      <td>0.727123</td>\n",
       "      <td>1.598860</td>\n",
       "      <td>-1.418343</td>\n",
       "      <td>-0.648803</td>\n",
       "      <td>-0.861602</td>\n",
       "      <td>0.873170</td>\n",
       "    </tr>\n",
       "    <tr>\n",
       "      <th>9673</th>\n",
       "      <td>0.356209</td>\n",
       "      <td>-0.356209</td>\n",
       "      <td>-0.048159</td>\n",
       "      <td>-0.088473</td>\n",
       "      <td>0.100913</td>\n",
       "      <td>-0.580172</td>\n",
       "      <td>-0.110826</td>\n",
       "      <td>-0.133593</td>\n",
       "      <td>-0.750922</td>\n",
       "      <td>0.093532</td>\n",
       "      <td>0.705048</td>\n",
       "      <td>-0.648803</td>\n",
       "      <td>-0.861602</td>\n",
       "      <td>-1.104102</td>\n",
       "    </tr>\n",
       "    <tr>\n",
       "      <th>4838</th>\n",
       "      <td>0.356209</td>\n",
       "      <td>-0.356209</td>\n",
       "      <td>-0.048159</td>\n",
       "      <td>-0.088473</td>\n",
       "      <td>0.100913</td>\n",
       "      <td>-0.580172</td>\n",
       "      <td>0.322346</td>\n",
       "      <td>-0.017959</td>\n",
       "      <td>-0.196655</td>\n",
       "      <td>0.093532</td>\n",
       "      <td>0.705048</td>\n",
       "      <td>1.541299</td>\n",
       "      <td>1.160629</td>\n",
       "      <td>1.040170</td>\n",
       "    </tr>\n",
       "    <tr>\n",
       "      <th>22048</th>\n",
       "      <td>0.356209</td>\n",
       "      <td>-0.356209</td>\n",
       "      <td>-0.048159</td>\n",
       "      <td>-0.088473</td>\n",
       "      <td>0.100913</td>\n",
       "      <td>1.376996</td>\n",
       "      <td>0.366774</td>\n",
       "      <td>-0.095049</td>\n",
       "      <td>0.727123</td>\n",
       "      <td>0.595308</td>\n",
       "      <td>0.705048</td>\n",
       "      <td>1.541299</td>\n",
       "      <td>1.160629</td>\n",
       "      <td>-0.569704</td>\n",
       "    </tr>\n",
       "    <tr>\n",
       "      <th>26130</th>\n",
       "      <td>0.356209</td>\n",
       "      <td>-0.356209</td>\n",
       "      <td>-0.048159</td>\n",
       "      <td>-0.088473</td>\n",
       "      <td>0.100913</td>\n",
       "      <td>-0.580172</td>\n",
       "      <td>0.300132</td>\n",
       "      <td>-0.750311</td>\n",
       "      <td>-0.566167</td>\n",
       "      <td>0.595308</td>\n",
       "      <td>-1.418343</td>\n",
       "      <td>-0.648803</td>\n",
       "      <td>1.160629</td>\n",
       "      <td>-0.629823</td>\n",
       "    </tr>\n",
       "    <tr>\n",
       "      <th>15560</th>\n",
       "      <td>0.356209</td>\n",
       "      <td>-0.356209</td>\n",
       "      <td>-0.048159</td>\n",
       "      <td>-0.088473</td>\n",
       "      <td>0.100913</td>\n",
       "      <td>-0.580172</td>\n",
       "      <td>-0.755031</td>\n",
       "      <td>0.328944</td>\n",
       "      <td>-0.750922</td>\n",
       "      <td>-0.408244</td>\n",
       "      <td>0.705048</td>\n",
       "      <td>-0.648803</td>\n",
       "      <td>-0.861602</td>\n",
       "      <td>-1.518260</td>\n",
       "    </tr>\n",
       "    <tr>\n",
       "      <th>11583</th>\n",
       "      <td>0.356209</td>\n",
       "      <td>-0.356209</td>\n",
       "      <td>-0.048159</td>\n",
       "      <td>-0.088473</td>\n",
       "      <td>0.100913</td>\n",
       "      <td>-0.580172</td>\n",
       "      <td>0.788840</td>\n",
       "      <td>0.059131</td>\n",
       "      <td>0.172856</td>\n",
       "      <td>1.097084</td>\n",
       "      <td>-1.418343</td>\n",
       "      <td>-0.648803</td>\n",
       "      <td>1.160629</td>\n",
       "      <td>0.873170</td>\n",
       "    </tr>\n",
       "    <tr>\n",
       "      <th>33016</th>\n",
       "      <td>0.356209</td>\n",
       "      <td>-0.356209</td>\n",
       "      <td>-0.048159</td>\n",
       "      <td>-0.088473</td>\n",
       "      <td>0.100913</td>\n",
       "      <td>-0.580172</td>\n",
       "      <td>-0.377394</td>\n",
       "      <td>-0.673221</td>\n",
       "      <td>-0.750922</td>\n",
       "      <td>0.595308</td>\n",
       "      <td>-1.418343</td>\n",
       "      <td>-0.648803</td>\n",
       "      <td>-0.861602</td>\n",
       "      <td>-0.629823</td>\n",
       "    </tr>\n",
       "  </tbody>\n",
       "</table>\n",
       "</div>"
      ],
      "text/plain": [
       "             0         1         2         3         4         5         6   \\\n",
       "8535   0.356209 -0.356209 -0.048159 -0.088473  0.100913  0.398412 -0.599533   \n",
       "5431   0.356209 -0.356209 -0.048159 -0.088473  0.100913  0.398412  2.321604   \n",
       "41154  0.356209 -0.356209 -0.048159 -0.088473  0.100913 -0.580172 -0.599533   \n",
       "9673   0.356209 -0.356209 -0.048159 -0.088473  0.100913 -0.580172 -0.110826   \n",
       "4838   0.356209 -0.356209 -0.048159 -0.088473  0.100913 -0.580172  0.322346   \n",
       "22048  0.356209 -0.356209 -0.048159 -0.088473  0.100913  1.376996  0.366774   \n",
       "26130  0.356209 -0.356209 -0.048159 -0.088473  0.100913 -0.580172  0.300132   \n",
       "15560  0.356209 -0.356209 -0.048159 -0.088473  0.100913 -0.580172 -0.755031   \n",
       "11583  0.356209 -0.356209 -0.048159 -0.088473  0.100913 -0.580172  0.788840   \n",
       "33016  0.356209 -0.356209 -0.048159 -0.088473  0.100913 -0.580172 -0.377394   \n",
       "\n",
       "             7         8         9         10        11        12        13  \n",
       "8535  -0.095049 -1.120434  0.093532 -1.418343 -0.648803 -0.861602 -1.170901  \n",
       "5431   0.097675 -0.935678  1.097084 -1.418343 -0.648803 -0.861602  0.873170  \n",
       "41154 -0.634676  0.727123  1.598860 -1.418343 -0.648803 -0.861602  0.873170  \n",
       "9673  -0.133593 -0.750922  0.093532  0.705048 -0.648803 -0.861602 -1.104102  \n",
       "4838  -0.017959 -0.196655  0.093532  0.705048  1.541299  1.160629  1.040170  \n",
       "22048 -0.095049  0.727123  0.595308  0.705048  1.541299  1.160629 -0.569704  \n",
       "26130 -0.750311 -0.566167  0.595308 -1.418343 -0.648803  1.160629 -0.629823  \n",
       "15560  0.328944 -0.750922 -0.408244  0.705048 -0.648803 -0.861602 -1.518260  \n",
       "11583  0.059131  0.172856  1.097084 -1.418343 -0.648803  1.160629  0.873170  \n",
       "33016 -0.673221 -0.750922  0.595308 -1.418343 -0.648803 -0.861602 -0.629823  "
      ]
     },
     "execution_count": 11,
     "metadata": {},
     "output_type": "execute_result"
    }
   ],
   "source": [
    "x.sample(10)"
   ]
  },
  {
   "cell_type": "code",
   "execution_count": 12,
   "metadata": {},
   "outputs": [
    {
     "data": {
      "text/html": [
       "<div>\n",
       "<style scoped>\n",
       "    .dataframe tbody tr th:only-of-type {\n",
       "        vertical-align: middle;\n",
       "    }\n",
       "\n",
       "    .dataframe tbody tr th {\n",
       "        vertical-align: top;\n",
       "    }\n",
       "\n",
       "    .dataframe thead th {\n",
       "        text-align: right;\n",
       "    }\n",
       "</style>\n",
       "<table border=\"1\" class=\"dataframe\">\n",
       "  <thead>\n",
       "    <tr style=\"text-align: right;\">\n",
       "      <th></th>\n",
       "      <th>0</th>\n",
       "      <th>1</th>\n",
       "      <th>2</th>\n",
       "      <th>3</th>\n",
       "      <th>4</th>\n",
       "      <th>5</th>\n",
       "      <th>6</th>\n",
       "      <th>7</th>\n",
       "      <th>8</th>\n",
       "      <th>9</th>\n",
       "      <th>10</th>\n",
       "      <th>11</th>\n",
       "      <th>12</th>\n",
       "      <th>13</th>\n",
       "    </tr>\n",
       "  </thead>\n",
       "  <tbody>\n",
       "    <tr>\n",
       "      <th>0</th>\n",
       "      <td>0.356209</td>\n",
       "      <td>-0.356209</td>\n",
       "      <td>-0.048159</td>\n",
       "      <td>-0.088473</td>\n",
       "      <td>0.100913</td>\n",
       "      <td>0.398412</td>\n",
       "      <td>1.966181</td>\n",
       "      <td>-0.095049</td>\n",
       "      <td>-0.381411</td>\n",
       "      <td>1.097084</td>\n",
       "      <td>0.705048</td>\n",
       "      <td>-0.648803</td>\n",
       "      <td>-0.861602</td>\n",
       "      <td>-1.170901</td>\n",
       "    </tr>\n",
       "    <tr>\n",
       "      <th>1</th>\n",
       "      <td>0.356209</td>\n",
       "      <td>-0.356209</td>\n",
       "      <td>-0.048159</td>\n",
       "      <td>-0.088473</td>\n",
       "      <td>0.100913</td>\n",
       "      <td>-0.580172</td>\n",
       "      <td>0.300132</td>\n",
       "      <td>-0.056504</td>\n",
       "      <td>-1.120434</td>\n",
       "      <td>1.097084</td>\n",
       "      <td>-1.418343</td>\n",
       "      <td>-0.648803</td>\n",
       "      <td>-0.861602</td>\n",
       "      <td>-1.170901</td>\n",
       "    </tr>\n",
       "    <tr>\n",
       "      <th>2</th>\n",
       "      <td>0.356209</td>\n",
       "      <td>-0.356209</td>\n",
       "      <td>-0.048159</td>\n",
       "      <td>-0.088473</td>\n",
       "      <td>0.100913</td>\n",
       "      <td>0.398412</td>\n",
       "      <td>1.755148</td>\n",
       "      <td>0.020586</td>\n",
       "      <td>1.466146</td>\n",
       "      <td>-0.408244</td>\n",
       "      <td>0.705048</td>\n",
       "      <td>1.541299</td>\n",
       "      <td>-0.861602</td>\n",
       "      <td>-1.170901</td>\n",
       "    </tr>\n",
       "    <tr>\n",
       "      <th>3</th>\n",
       "      <td>0.356209</td>\n",
       "      <td>-0.356209</td>\n",
       "      <td>-0.048159</td>\n",
       "      <td>-0.088473</td>\n",
       "      <td>0.100913</td>\n",
       "      <td>-0.580172</td>\n",
       "      <td>0.122421</td>\n",
       "      <td>0.367489</td>\n",
       "      <td>-0.935678</td>\n",
       "      <td>1.097084</td>\n",
       "      <td>-1.418343</td>\n",
       "      <td>-0.648803</td>\n",
       "      <td>1.160629</td>\n",
       "      <td>-1.170901</td>\n",
       "    </tr>\n",
       "    <tr>\n",
       "      <th>4</th>\n",
       "      <td>0.356209</td>\n",
       "      <td>-0.356209</td>\n",
       "      <td>-0.048159</td>\n",
       "      <td>-0.088473</td>\n",
       "      <td>0.100913</td>\n",
       "      <td>0.398412</td>\n",
       "      <td>-0.188575</td>\n",
       "      <td>0.020586</td>\n",
       "      <td>1.096634</td>\n",
       "      <td>-0.408244</td>\n",
       "      <td>0.705048</td>\n",
       "      <td>-0.648803</td>\n",
       "      <td>1.160629</td>\n",
       "      <td>-1.170901</td>\n",
       "    </tr>\n",
       "  </tbody>\n",
       "</table>\n",
       "</div>"
      ],
      "text/plain": [
       "         0         1         2         3         4         5         6   \\\n",
       "0  0.356209 -0.356209 -0.048159 -0.088473  0.100913  0.398412  1.966181   \n",
       "1  0.356209 -0.356209 -0.048159 -0.088473  0.100913 -0.580172  0.300132   \n",
       "2  0.356209 -0.356209 -0.048159 -0.088473  0.100913  0.398412  1.755148   \n",
       "3  0.356209 -0.356209 -0.048159 -0.088473  0.100913 -0.580172  0.122421   \n",
       "4  0.356209 -0.356209 -0.048159 -0.088473  0.100913  0.398412 -0.188575   \n",
       "\n",
       "         7         8         9         10        11        12        13  \n",
       "0 -0.095049 -0.381411  1.097084  0.705048 -0.648803 -0.861602 -1.170901  \n",
       "1 -0.056504 -1.120434  1.097084 -1.418343 -0.648803 -0.861602 -1.170901  \n",
       "2  0.020586  1.466146 -0.408244  0.705048  1.541299 -0.861602 -1.170901  \n",
       "3  0.367489 -0.935678  1.097084 -1.418343 -0.648803  1.160629 -1.170901  \n",
       "4  0.020586  1.096634 -0.408244  0.705048 -0.648803  1.160629 -1.170901  "
      ]
     },
     "execution_count": 12,
     "metadata": {},
     "output_type": "execute_result"
    }
   ],
   "source": [
    "x.head()"
   ]
  },
  {
   "cell_type": "code",
   "execution_count": 13,
   "metadata": {},
   "outputs": [],
   "source": [
    "x = x.rename(columns={0:'Internet', 1:'Mobile',2:'CircleTrip', 3:'OneWayTrip',4:'RoundTRip',5:\"num_passengers\",6:\"purchase_lead\",7:\"length_of_stay\",8:\"flight_hour\",9:\"flight_day\",12:'wants_extra_baggage',13:'wants_preferred_seat',14:'wants_in_flight_meals',15:'flight_duration'})"
   ]
  },
  {
   "cell_type": "code",
   "execution_count": 14,
   "metadata": {},
   "outputs": [
    {
     "data": {
      "text/plain": [
       "Index([            'Internet',               'Mobile',           'CircleTrip',\n",
       "                 'OneWayTrip',            'RoundTRip',       'num_passengers',\n",
       "              'purchase_lead',       'length_of_stay',          'flight_hour',\n",
       "                 'flight_day',                     10,                     11,\n",
       "        'wants_extra_baggage', 'wants_preferred_seat'],\n",
       "      dtype='object')"
      ]
     },
     "execution_count": 14,
     "metadata": {},
     "output_type": "execute_result"
    }
   ],
   "source": [
    "x.columns"
   ]
  },
  {
   "cell_type": "code",
   "execution_count": 15,
   "metadata": {},
   "outputs": [],
   "source": [
    "x.columns = x.columns.astype(str)\n"
   ]
  },
  {
   "cell_type": "code",
   "execution_count": 16,
   "metadata": {},
   "outputs": [
    {
     "data": {
      "text/html": [
       "<div>\n",
       "<style scoped>\n",
       "    .dataframe tbody tr th:only-of-type {\n",
       "        vertical-align: middle;\n",
       "    }\n",
       "\n",
       "    .dataframe tbody tr th {\n",
       "        vertical-align: top;\n",
       "    }\n",
       "\n",
       "    .dataframe thead th {\n",
       "        text-align: right;\n",
       "    }\n",
       "</style>\n",
       "<table border=\"1\" class=\"dataframe\">\n",
       "  <thead>\n",
       "    <tr style=\"text-align: right;\">\n",
       "      <th></th>\n",
       "      <th>Internet</th>\n",
       "      <th>Mobile</th>\n",
       "      <th>CircleTrip</th>\n",
       "      <th>OneWayTrip</th>\n",
       "      <th>RoundTRip</th>\n",
       "      <th>num_passengers</th>\n",
       "      <th>purchase_lead</th>\n",
       "      <th>length_of_stay</th>\n",
       "      <th>flight_hour</th>\n",
       "      <th>flight_day</th>\n",
       "      <th>10</th>\n",
       "      <th>11</th>\n",
       "      <th>wants_extra_baggage</th>\n",
       "      <th>wants_preferred_seat</th>\n",
       "      <th>booking_complete</th>\n",
       "    </tr>\n",
       "  </thead>\n",
       "  <tbody>\n",
       "    <tr>\n",
       "      <th>0</th>\n",
       "      <td>0.356209</td>\n",
       "      <td>-0.356209</td>\n",
       "      <td>-0.048159</td>\n",
       "      <td>-0.088473</td>\n",
       "      <td>0.100913</td>\n",
       "      <td>0.398412</td>\n",
       "      <td>1.966181</td>\n",
       "      <td>-0.095049</td>\n",
       "      <td>-0.381411</td>\n",
       "      <td>1.097084</td>\n",
       "      <td>0.705048</td>\n",
       "      <td>-0.648803</td>\n",
       "      <td>-0.861602</td>\n",
       "      <td>-1.170901</td>\n",
       "      <td>0.0</td>\n",
       "    </tr>\n",
       "    <tr>\n",
       "      <th>1</th>\n",
       "      <td>0.356209</td>\n",
       "      <td>-0.356209</td>\n",
       "      <td>-0.048159</td>\n",
       "      <td>-0.088473</td>\n",
       "      <td>0.100913</td>\n",
       "      <td>-0.580172</td>\n",
       "      <td>0.300132</td>\n",
       "      <td>-0.056504</td>\n",
       "      <td>-1.120434</td>\n",
       "      <td>1.097084</td>\n",
       "      <td>-1.418343</td>\n",
       "      <td>-0.648803</td>\n",
       "      <td>-0.861602</td>\n",
       "      <td>-1.170901</td>\n",
       "      <td>0.0</td>\n",
       "    </tr>\n",
       "    <tr>\n",
       "      <th>2</th>\n",
       "      <td>0.356209</td>\n",
       "      <td>-0.356209</td>\n",
       "      <td>-0.048159</td>\n",
       "      <td>-0.088473</td>\n",
       "      <td>0.100913</td>\n",
       "      <td>0.398412</td>\n",
       "      <td>1.755148</td>\n",
       "      <td>0.020586</td>\n",
       "      <td>1.466146</td>\n",
       "      <td>-0.408244</td>\n",
       "      <td>0.705048</td>\n",
       "      <td>1.541299</td>\n",
       "      <td>-0.861602</td>\n",
       "      <td>-1.170901</td>\n",
       "      <td>0.0</td>\n",
       "    </tr>\n",
       "    <tr>\n",
       "      <th>3</th>\n",
       "      <td>0.356209</td>\n",
       "      <td>-0.356209</td>\n",
       "      <td>-0.048159</td>\n",
       "      <td>-0.088473</td>\n",
       "      <td>0.100913</td>\n",
       "      <td>-0.580172</td>\n",
       "      <td>0.122421</td>\n",
       "      <td>0.367489</td>\n",
       "      <td>-0.935678</td>\n",
       "      <td>1.097084</td>\n",
       "      <td>-1.418343</td>\n",
       "      <td>-0.648803</td>\n",
       "      <td>1.160629</td>\n",
       "      <td>-1.170901</td>\n",
       "      <td>0.0</td>\n",
       "    </tr>\n",
       "    <tr>\n",
       "      <th>4</th>\n",
       "      <td>0.356209</td>\n",
       "      <td>-0.356209</td>\n",
       "      <td>-0.048159</td>\n",
       "      <td>-0.088473</td>\n",
       "      <td>0.100913</td>\n",
       "      <td>0.398412</td>\n",
       "      <td>-0.188575</td>\n",
       "      <td>0.020586</td>\n",
       "      <td>1.096634</td>\n",
       "      <td>-0.408244</td>\n",
       "      <td>0.705048</td>\n",
       "      <td>-0.648803</td>\n",
       "      <td>1.160629</td>\n",
       "      <td>-1.170901</td>\n",
       "      <td>0.0</td>\n",
       "    </tr>\n",
       "  </tbody>\n",
       "</table>\n",
       "</div>"
      ],
      "text/plain": [
       "   Internet    Mobile  CircleTrip  OneWayTrip  RoundTRip  num_passengers  \\\n",
       "0  0.356209 -0.356209   -0.048159   -0.088473   0.100913        0.398412   \n",
       "1  0.356209 -0.356209   -0.048159   -0.088473   0.100913       -0.580172   \n",
       "2  0.356209 -0.356209   -0.048159   -0.088473   0.100913        0.398412   \n",
       "3  0.356209 -0.356209   -0.048159   -0.088473   0.100913       -0.580172   \n",
       "4  0.356209 -0.356209   -0.048159   -0.088473   0.100913        0.398412   \n",
       "\n",
       "   purchase_lead  length_of_stay  flight_hour  flight_day        10        11  \\\n",
       "0       1.966181       -0.095049    -0.381411    1.097084  0.705048 -0.648803   \n",
       "1       0.300132       -0.056504    -1.120434    1.097084 -1.418343 -0.648803   \n",
       "2       1.755148        0.020586     1.466146   -0.408244  0.705048  1.541299   \n",
       "3       0.122421        0.367489    -0.935678    1.097084 -1.418343 -0.648803   \n",
       "4      -0.188575        0.020586     1.096634   -0.408244  0.705048 -0.648803   \n",
       "\n",
       "   wants_extra_baggage  wants_preferred_seat  booking_complete  \n",
       "0            -0.861602             -1.170901               0.0  \n",
       "1            -0.861602             -1.170901               0.0  \n",
       "2            -0.861602             -1.170901               0.0  \n",
       "3             1.160629             -1.170901               0.0  \n",
       "4             1.160629             -1.170901               0.0  "
      ]
     },
     "execution_count": 16,
     "metadata": {},
     "output_type": "execute_result"
    }
   ],
   "source": [
    "scaled_df = x.join(y)\n",
    "scaled_df.head()"
   ]
  },
  {
   "cell_type": "markdown",
   "metadata": {},
   "source": [
    "### Correlation Matrix"
   ]
  },
  {
   "cell_type": "code",
   "execution_count": 17,
   "metadata": {},
   "outputs": [
    {
     "data": {
      "text/plain": [
       "<Axes: >"
      ]
     },
     "execution_count": 17,
     "metadata": {},
     "output_type": "execute_result"
    },
    {
     "data": {
      "image/png": "[encoded data removed]",
      "text/plain": [
       "<Figure size 1500x800 with 2 Axes>"
      ]
     },
     "metadata": {},
     "output_type": "display_data"
    }
   ],
   "source": [
    "plt.figure(figsize=(15,8))\n",
    "sns.heatmap(scaled_df.corr(),cmap='mako')"
   ]
  },
  {
   "cell_type": "code",
   "execution_count": 18,
   "metadata": {},
   "outputs": [],
   "source": [
    "from sklearn.model_selection import train_test_split\n",
    "x_train,x_test,y_train, y_test= train_test_split(x,y,test_size=0.2,random_state=42)"
   ]
  },
  {
   "cell_type": "code",
   "execution_count": 19,
   "metadata": {},
   "outputs": [],
   "source": [
    "classifiers = [\n",
    "    ('Random Forest', RandomForestClassifier(n_estimators=10,criterion='gini')),\n",
    "    ('Logistic Regression', LogisticRegression(random_state=0)),\n",
    "    ('Support Vector Machine', SVC(kernel='rbf',random_state=0)),\n",
    "    ('K-Nearest Neighbors', KNeighborsClassifier(n_neighbors=5)),\n",
    "    ('Decision Tree', DecisionTreeClassifier(criterion='gini',max_depth=10))\n",
    "]"
   ]
  },
  {
   "cell_type": "code",
   "execution_count": 20,
   "metadata": {},
   "outputs": [
    {
     "name": "stdout",
     "output_type": "stream",
     "text": [
      "Random Forest Accuracy: 0.8443\n",
      "Logistic Regression Accuracy: 0.8500\n"
     ]
    },
    {
     "name": "stdout",
     "output_type": "stream",
     "text": [
      "Support Vector Machine Accuracy: 0.8500\n",
      "K-Nearest Neighbors Accuracy: 0.8317\n",
      "Decision Tree Accuracy: 0.8421\n"
     ]
    }
   ],
   "source": [
    "predictions = {}\n",
    "accuracy = {}\n",
    "\n",
    "for name, model in classifiers:\n",
    "    model.fit(x_train,y_train)\n",
    "    y_pred = model.predict(x_test)\n",
    "    predictions[name]=y_pred\n",
    "    res = accuracy_score(y_true=y_test,y_pred=y_pred)\n",
    "    accuracy[name]=res\n",
    "    print(f\"{name} Accuracy: {res:.4f}\")\n"
   ]
  },
  {
   "cell_type": "code",
   "execution_count": 21,
   "metadata": {},
   "outputs": [
    {
     "name": "stdout",
     "output_type": "stream",
     "text": [
      "\n",
      "The best classifier is 'Logistic Regression' with accuracy: 0.8500\n"
     ]
    }
   ],
   "source": [
    "correct_freq = {name: (pred == y_test).sum() for name, pred in predictions.items()}\n",
    "best_classifier = max(correct_freq, key=correct_freq.get)\n",
    "best_accuracy = correct_freq[best_classifier] / len(y_test)\n",
    "print(f\"\\nThe best classifier is '{best_classifier}' with accuracy: {best_accuracy:.4f}\")"
   ]
  },
  {
   "cell_type": "code",
   "execution_count": 22,
   "metadata": {},
   "outputs": [
    {
     "data": {
      "text/plain": [
       "array([[8449,    0],\n",
       "       [1491,    0]], dtype=int64)"
      ]
     },
     "execution_count": 22,
     "metadata": {},
     "output_type": "execute_result"
    }
   ],
   "source": [
    "model = LogisticRegression(random_state=0)\n",
    "model.fit(x_train,y_train)\n",
    "y_pred = model.predict(x_test)\n",
    "\n",
    "cm = confusion_matrix(y_true=y_test,y_pred=y_pred)\n",
    "cm"
   ]
  },
  {
   "cell_type": "markdown",
   "metadata": {},
   "source": [
    "### Balancing the Dataset"
   ]
  },
  {
   "cell_type": "code",
   "execution_count": 23,
   "metadata": {},
   "outputs": [
    {
     "data": {
      "text/plain": [
       "booking_complete\n",
       "0.0    42086\n",
       "1.0     7312\n",
       "Name: count, dtype: int64"
      ]
     },
     "execution_count": 23,
     "metadata": {},
     "output_type": "execute_result"
    }
   ],
   "source": [
    "scaled_df.booking_complete.value_counts()"
   ]
  },
  {
   "cell_type": "code",
   "execution_count": 24,
   "metadata": {},
   "outputs": [],
   "source": [
    "scaled_df_0 = scaled_df[scaled_df['booking_complete']==0].sample(n=8000)\n",
    "scaled_df_1 = scaled_df[scaled_df['booking_complete']==1]"
   ]
  },
  {
   "cell_type": "code",
   "execution_count": 25,
   "metadata": {},
   "outputs": [],
   "source": [
    "new_scaled_df = pd.concat([scaled_df_1,scaled_df_0],ignore_index=True)"
   ]
  },
  {
   "cell_type": "code",
   "execution_count": 26,
   "metadata": {},
   "outputs": [],
   "source": [
    "new_scaled_df.columns = new_scaled_df.columns.astype('str')"
   ]
  },
  {
   "cell_type": "code",
   "execution_count": 27,
   "metadata": {},
   "outputs": [],
   "source": [
    "new_scaled_df = new_scaled_df.sample(frac=1).reset_index(drop=True)"
   ]
  },
  {
   "cell_type": "code",
   "execution_count": 28,
   "metadata": {},
   "outputs": [
    {
     "data": {
      "text/html": [
       "<div>\n",
       "<style scoped>\n",
       "    .dataframe tbody tr th:only-of-type {\n",
       "        vertical-align: middle;\n",
       "    }\n",
       "\n",
       "    .dataframe tbody tr th {\n",
       "        vertical-align: top;\n",
       "    }\n",
       "\n",
       "    .dataframe thead th {\n",
       "        text-align: right;\n",
       "    }\n",
       "</style>\n",
       "<table border=\"1\" class=\"dataframe\">\n",
       "  <thead>\n",
       "    <tr style=\"text-align: right;\">\n",
       "      <th></th>\n",
       "      <th>Internet</th>\n",
       "      <th>Mobile</th>\n",
       "      <th>CircleTrip</th>\n",
       "      <th>OneWayTrip</th>\n",
       "      <th>RoundTRip</th>\n",
       "      <th>num_passengers</th>\n",
       "      <th>purchase_lead</th>\n",
       "      <th>length_of_stay</th>\n",
       "      <th>flight_hour</th>\n",
       "      <th>flight_day</th>\n",
       "      <th>10</th>\n",
       "      <th>11</th>\n",
       "      <th>wants_extra_baggage</th>\n",
       "      <th>wants_preferred_seat</th>\n",
       "      <th>booking_complete</th>\n",
       "    </tr>\n",
       "  </thead>\n",
       "  <tbody>\n",
       "    <tr>\n",
       "      <th>0</th>\n",
       "      <td>0.356209</td>\n",
       "      <td>-0.356209</td>\n",
       "      <td>-0.048159</td>\n",
       "      <td>-0.088473</td>\n",
       "      <td>0.100913</td>\n",
       "      <td>0.398412</td>\n",
       "      <td>-0.632854</td>\n",
       "      <td>-0.673221</td>\n",
       "      <td>0.727123</td>\n",
       "      <td>1.598860</td>\n",
       "      <td>-1.418343</td>\n",
       "      <td>-0.648803</td>\n",
       "      <td>-0.861602</td>\n",
       "      <td>-0.436104</td>\n",
       "      <td>0.0</td>\n",
       "    </tr>\n",
       "    <tr>\n",
       "      <th>1</th>\n",
       "      <td>0.356209</td>\n",
       "      <td>-0.356209</td>\n",
       "      <td>-0.048159</td>\n",
       "      <td>-0.088473</td>\n",
       "      <td>0.100913</td>\n",
       "      <td>-0.580172</td>\n",
       "      <td>-0.488464</td>\n",
       "      <td>-0.634676</td>\n",
       "      <td>1.096634</td>\n",
       "      <td>0.595308</td>\n",
       "      <td>-1.418343</td>\n",
       "      <td>-0.648803</td>\n",
       "      <td>-0.861602</td>\n",
       "      <td>0.198493</td>\n",
       "      <td>1.0</td>\n",
       "    </tr>\n",
       "    <tr>\n",
       "      <th>2</th>\n",
       "      <td>0.356209</td>\n",
       "      <td>-0.356209</td>\n",
       "      <td>-0.048159</td>\n",
       "      <td>-0.088473</td>\n",
       "      <td>0.100913</td>\n",
       "      <td>-0.580172</td>\n",
       "      <td>-0.532892</td>\n",
       "      <td>-0.634676</td>\n",
       "      <td>-0.566167</td>\n",
       "      <td>-1.411796</td>\n",
       "      <td>-1.418343</td>\n",
       "      <td>-0.648803</td>\n",
       "      <td>-0.861602</td>\n",
       "      <td>-1.738699</td>\n",
       "      <td>0.0</td>\n",
       "    </tr>\n",
       "    <tr>\n",
       "      <th>3</th>\n",
       "      <td>0.356209</td>\n",
       "      <td>-0.356209</td>\n",
       "      <td>-0.048159</td>\n",
       "      <td>-0.088473</td>\n",
       "      <td>0.100913</td>\n",
       "      <td>-0.580172</td>\n",
       "      <td>-0.655068</td>\n",
       "      <td>-0.673221</td>\n",
       "      <td>-0.011900</td>\n",
       "      <td>0.093532</td>\n",
       "      <td>0.705048</td>\n",
       "      <td>-0.648803</td>\n",
       "      <td>-0.861602</td>\n",
       "      <td>0.873170</td>\n",
       "      <td>0.0</td>\n",
       "    </tr>\n",
       "    <tr>\n",
       "      <th>4</th>\n",
       "      <td>0.356209</td>\n",
       "      <td>-0.356209</td>\n",
       "      <td>-0.048159</td>\n",
       "      <td>-0.088473</td>\n",
       "      <td>0.100913</td>\n",
       "      <td>-0.580172</td>\n",
       "      <td>2.266069</td>\n",
       "      <td>0.020586</td>\n",
       "      <td>0.172856</td>\n",
       "      <td>-1.411796</td>\n",
       "      <td>0.705048</td>\n",
       "      <td>-0.648803</td>\n",
       "      <td>1.160629</td>\n",
       "      <td>-1.104102</td>\n",
       "      <td>0.0</td>\n",
       "    </tr>\n",
       "  </tbody>\n",
       "</table>\n",
       "</div>"
      ],
      "text/plain": [
       "   Internet    Mobile  CircleTrip  OneWayTrip  RoundTRip  num_passengers  \\\n",
       "0  0.356209 -0.356209   -0.048159   -0.088473   0.100913        0.398412   \n",
       "1  0.356209 -0.356209   -0.048159   -0.088473   0.100913       -0.580172   \n",
       "2  0.356209 -0.356209   -0.048159   -0.088473   0.100913       -0.580172   \n",
       "3  0.356209 -0.356209   -0.048159   -0.088473   0.100913       -0.580172   \n",
       "4  0.356209 -0.356209   -0.048159   -0.088473   0.100913       -0.580172   \n",
       "\n",
       "   purchase_lead  length_of_stay  flight_hour  flight_day        10        11  \\\n",
       "0      -0.632854       -0.673221     0.727123    1.598860 -1.418343 -0.648803   \n",
       "1      -0.488464       -0.634676     1.096634    0.595308 -1.418343 -0.648803   \n",
       "2      -0.532892       -0.634676    -0.566167   -1.411796 -1.418343 -0.648803   \n",
       "3      -0.655068       -0.673221    -0.011900    0.093532  0.705048 -0.648803   \n",
       "4       2.266069        0.020586     0.172856   -1.411796  0.705048 -0.648803   \n",
       "\n",
       "   wants_extra_baggage  wants_preferred_seat  booking_complete  \n",
       "0            -0.861602             -0.436104               0.0  \n",
       "1            -0.861602              0.198493               1.0  \n",
       "2            -0.861602             -1.738699               0.0  \n",
       "3            -0.861602              0.873170               0.0  \n",
       "4             1.160629             -1.104102               0.0  "
      ]
     },
     "execution_count": 28,
     "metadata": {},
     "output_type": "execute_result"
    }
   ],
   "source": [
    "new_scaled_df.head()"
   ]
  },
  {
   "cell_type": "code",
   "execution_count": 29,
   "metadata": {},
   "outputs": [],
   "source": [
    "x = new_scaled_df.iloc[:,:-1]\n",
    "y = new_scaled_df.iloc[:,-1]"
   ]
  },
  {
   "cell_type": "code",
   "execution_count": 30,
   "metadata": {},
   "outputs": [],
   "source": [
    "x_train,x_test,y_train, y_test= train_test_split(x,y,test_size=0.2,random_state=42)"
   ]
  },
  {
   "cell_type": "code",
   "execution_count": 31,
   "metadata": {},
   "outputs": [
    {
     "name": "stdout",
     "output_type": "stream",
     "text": [
      "Random Forest Accuracy: 0.5260\n",
      "Logistic Regression Accuracy: 0.5524\n",
      "Support Vector Machine Accuracy: 0.5527\n",
      "K-Nearest Neighbors Accuracy: 0.5077\n",
      "Decision Tree Accuracy: 0.5537\n"
     ]
    }
   ],
   "source": [
    "predictions_2 = {}\n",
    "accuracy_2 = {}\n",
    "\n",
    "for name, model in classifiers:\n",
    "    model.fit(x_train,y_train)\n",
    "    y_pred = model.predict(x_test)\n",
    "    predictions_2[name]=y_pred\n",
    "    res = accuracy_score(y_true=y_test,y_pred=y_pred)\n",
    "    accuracy_2[name]=res\n",
    "    print(f\"{name} Accuracy: {res:.4f}\")"
   ]
  },
  {
   "cell_type": "code",
   "execution_count": 32,
   "metadata": {},
   "outputs": [
    {
     "name": "stdout",
     "output_type": "stream",
     "text": [
      "\n",
      "The best classifier is 'Decision Tree' with accuracy: 0.5537\n"
     ]
    }
   ],
   "source": [
    "correct_freq = {name: (pred == y_test).sum() for name, pred in predictions_2.items()}\n",
    "best_classifier = max(correct_freq, key=correct_freq.get)\n",
    "best_accuracy = correct_freq[best_classifier] / len(y_test)\n",
    "print(f\"\\nThe best classifier is '{best_classifier}' with accuracy: {best_accuracy:.4f}\")"
   ]
  },
  {
   "cell_type": "code",
   "execution_count": 33,
   "metadata": {},
   "outputs": [
    {
     "data": {
      "text/plain": [
       "array([[907, 624],\n",
       "       [725, 807]], dtype=int64)"
      ]
     },
     "execution_count": 33,
     "metadata": {},
     "output_type": "execute_result"
    }
   ],
   "source": [
    "model = DecisionTreeClassifier(criterion='gini',max_depth=10)\n",
    "model.fit(x_train,y_train)\n",
    "y_pred = model.predict(x_test)\n",
    "\n",
    "cm = confusion_matrix(y_true=y_test,y_pred=y_pred)\n",
    "cm"
   ]
  },
  {
   "cell_type": "code",
   "execution_count": 40,
   "metadata": {},
   "outputs": [
    {
     "name": "stdout",
     "output_type": "stream",
     "text": [
      "Precision: 0.5639\n",
      "Recall: 0.5268\n",
      "F1 Score: 0.5447\n"
     ]
    }
   ],
   "source": [
    "precision = precision_score(y_test, y_pred)\n",
    "recall = recall_score(y_test, y_pred)\n",
    "f1 = f1_score(y_test, y_pred)\n",
    "\n",
    "print(f\"Precision: {precision:.4f}\")\n",
    "print(f\"Recall: {recall:.4f}\")\n",
    "print(f\"F1 Score: {f1:.4f}\")"
   ]
  },
  {
   "cell_type": "code",
   "execution_count": 43,
   "metadata": {},
   "outputs": [
    {
     "data": {
      "image/png": "[encoded data removed]",
      "text/plain": [
       "<Figure size 1000x800 with 1 Axes>"
      ]
     },
     "metadata": {},
     "output_type": "display_data"
    }
   ],
   "source": [
    "plt.figure(figsize=(10,8))\n",
    "sorted_idx = model.feature_importances_.argsort()\n",
    "plt.barh(scaled_df.iloc[:,:-1].columns[sorted_idx], model.feature_importances_[sorted_idx])\n",
    "plt.xlabel(\"Feature Importance\")\n",
    "plt.ylabel(\"Different Features\")\n",
    "plt.title(\"Different Features v/s Feature Importance\")\n",
    "plt.show()"
   ]
  },
  {
   "cell_type": "code",
   "execution_count": null,
   "metadata": {},
   "outputs": [],
   "source": []
  }
 ],
 "metadata": {
  "kernelspec": {
   "display_name": "Python 3",
   "language": "python",
   "name": "python3"
  },
  "language_info": {
   "codemirror_mode": {
    "name": "ipython",
    "version": 3
   },
   "file_extension": ".py",
   "mimetype": "text/x-python",
   "name": "python",
   "nbconvert_exporter": "python",
   "pygments_lexer": "ipython3",
   "version": "3.11.4"
  }
 },
 "nbformat": 4,
 "nbformat_minor": 2
}
